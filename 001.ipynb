{
 "cells": [
  {
   "cell_type": "code",
   "execution_count": null,
   "metadata": {},
   "outputs": [],
   "source": [
    "from dolfin import *"
   ]
  },
  {
   "cell_type": "code",
   "execution_count": null,
   "metadata": {},
   "outputs": [],
   "source": [
<<<<<<< HEAD
    "import numpy as np\n",
    "from vtkplotter.dolfin import plot as vplot\n",
    "from vtkplotter.dolfin import show, embedWindow\n",
    "from vtkplotter import settings\n",
    "msh = UnitSquareMesh(3,3)"
=======
    "comm = MPI.comm_world\n",
    "msh = Mesh()\n",
    "mvc = MeshValueCollection(\"size_t\", msh, 3)\n",
    "mvc2 = MeshValueCollection(\"double\", msh, 3)\n",
    "mvc3 = MeshValueCollection(\"double\", msh, 3)\n",
    "with XDMFFile(comm, \"SphereinCube.xdmf\") as infile:\n",
    "    infile.read(msh)\n",
    "    infile.read(mvc, \"domains\")\n",
    "    infile.read(mvc2, \"mu\")  # not able to read the attribute for some reason\n",
    "    infile.read(mvc3, \"eta\")"
>>>>>>> 5bc01bf391cb375daad51f2f84c64f331deb2534
   ]
  },
  {
   "cell_type": "code",
   "execution_count": null,
   "metadata": {},
   "outputs": [],
   "source": []
  },
  {
   "cell_type": "code",
   "execution_count": null,
   "metadata": {},
   "outputs": [],
   "source": []
  },
  {
   "cell_type": "code",
   "execution_count": null,
   "metadata": {},
   "outputs": [],
   "source": []
  },
  {
   "cell_type": "code",
<<<<<<< HEAD
   "execution_count": 6,
   "metadata": {},
   "outputs": [
    {
     "data": {
      "application/vnd.jupyter.widget-view+json": {
       "model_id": "1b55beb91a7a4f04b06d2763598d5d50",
       "version_major": 2,
       "version_minor": 0
      },
      "text/plain": [
       "Plot(antialias=3, axes=['x', 'y', 'z'], axes_helper=1.0, background_color=16777215, camera=[0.5173205080756887…"
      ]
     },
     "metadata": {},
     "output_type": "display_data"
    }
   ],
   "source": [
    "embedWindow(\"k3d\")\n",
    "vplot(w)\n",
    "mesh = settings.plotter_instance.actors[0]\n",
    "show(mesh, newPlotter=True)\n",
    "# mesh = settings.plotter_instance.actors[0]\n",
    "# mesh.lw(0)\n",
    "# mesh.cutWithPlane(origin=(1.8,0,0), normal=(1,1,1))\n",
    "\n",
    "# show(mesh, newPlotter=True, axes=1)"
   ]
  },
  {
   "cell_type": "code",
   "execution_count": 7,
   "metadata": {},
   "outputs": [
    {
     "data": {
      "application/vnd.jupyter.widget-view+json": {
       "model_id": "21009ba9e94f462fad61e06281f880f5",
       "version_major": 2,
       "version_minor": 0
      },
      "text/plain": [
       "Plot(antialias=3, axes=['x', 'y', 'z'], axes_helper=1.0, background_color=16777215, camera=[0.5141421356237309…"
      ]
     },
     "metadata": {},
     "output_type": "display_data"
    }
   ],
   "source": [
    "vplot(w)"
   ]
  },
  {
   "cell_type": "code",
   "execution_count": 11,
   "metadata": {},
   "outputs": [],
   "source": [
    "import k3d"
   ]
=======
   "execution_count": null,
   "metadata": {},
   "outputs": [],
   "source": []
>>>>>>> 5bc01bf391cb375daad51f2f84c64f331deb2534
  },
  {
   "cell_type": "code",
   "execution_count": null,
   "metadata": {},
   "outputs": [],
   "source": []
  }
 ],
 "metadata": {
  "kernelspec": {
   "display_name": "Python 3",
   "language": "python",
   "name": "python3"
  },
  "language_info": {
   "codemirror_mode": {
    "name": "ipython",
    "version": 3
   },
   "file_extension": ".py",
   "mimetype": "text/x-python",
   "name": "python",
   "nbconvert_exporter": "python",
   "pygments_lexer": "ipython3",
   "version": "3.7.5"
  }
 },
 "nbformat": 4,
 "nbformat_minor": 2
}
